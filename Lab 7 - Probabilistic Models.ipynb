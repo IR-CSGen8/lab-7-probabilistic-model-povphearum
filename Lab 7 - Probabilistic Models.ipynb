{
 "cells": [
  {
   "cell_type": "code",
   "execution_count": 2,
   "id": "3c892250",
   "metadata": {},
   "outputs": [],
   "source": [
    "# Import necessary libraries\n",
    "from collections import defaultdict\n",
    "\n",
    "# Define the documents\n",
    "documents = [\n",
    "    \"I love cats . cats are cute pets.\",\n",
    "    \"Dogs are loyal. Dogs are good friends.\",\n",
    "    \"Birds can sing. Birds fly in the sky.\",\n",
    "    \"Fish live underwater. Fish come in many colors.\"\n",
    "]\n"
   ]
  },
  {
   "cell_type": "markdown",
   "id": "2a685610",
   "metadata": {},
   "source": [
    "In this section, we define and create unigram models for the documents. Unigrams are single words or terms, and a unigram model represents the probability distribution of individual terms in the document. The unigram_model function counts the occurrences of each term in a document, calculates the probabilities, and returns the unigram model. We create unigram models for all documents in the collection."
   ]
  },
  {
   "cell_type": "markdown",
   "id": "a8d0e623",
   "metadata": {},
   "source": [
    "# Create Unigram Models"
   ]
  },
  {
   "cell_type": "code",
   "execution_count": 3,
   "id": "2d589155",
   "metadata": {},
   "outputs": [],
   "source": [
    "#Create a function to calculate the unigram model\n",
    "def unigram_model(document):\n",
    "    words = document.split()\n",
    "    total_words = len(words)\n",
    "    unigram_counts = defaultdict(int)\n",
    "    for word in words:\n",
    "        unigram_counts[word] += 1\n",
    "    unigram_model = {word: count / total_words for word, count in unigram_counts.items()}\n",
    "    return unigram_model"
   ]
  },
  {
   "cell_type": "code",
   "execution_count": 4,
   "id": "9c571b22",
   "metadata": {},
   "outputs": [],
   "source": [
    "# Create unigram models for all documents\n",
    "unigram_models = [unigram_model(doc) for doc in documents]"
   ]
  },
  {
   "cell_type": "code",
   "execution_count": 5,
   "id": "a16bdec3",
   "metadata": {},
   "outputs": [
    {
     "data": {
      "text/plain": [
       "[{'I': 0.125,\n",
       "  'love': 0.125,\n",
       "  'cats': 0.25,\n",
       "  '.': 0.125,\n",
       "  'are': 0.125,\n",
       "  'cute': 0.125,\n",
       "  'pets.': 0.125},\n",
       " {'Dogs': 0.2857142857142857,\n",
       "  'are': 0.2857142857142857,\n",
       "  'loyal.': 0.14285714285714285,\n",
       "  'good': 0.14285714285714285,\n",
       "  'friends.': 0.14285714285714285},\n",
       " {'Birds': 0.25,\n",
       "  'can': 0.125,\n",
       "  'sing.': 0.125,\n",
       "  'fly': 0.125,\n",
       "  'in': 0.125,\n",
       "  'the': 0.125,\n",
       "  'sky.': 0.125},\n",
       " {'Fish': 0.25,\n",
       "  'live': 0.125,\n",
       "  'underwater.': 0.125,\n",
       "  'come': 0.125,\n",
       "  'in': 0.125,\n",
       "  'many': 0.125,\n",
       "  'colors.': 0.125}]"
      ]
     },
     "execution_count": 5,
     "metadata": {},
     "output_type": "execute_result"
    }
   ],
   "source": [
    "unigram_models"
   ]
  },
  {
   "cell_type": "code",
   "execution_count": 6,
   "id": "faa6e564",
   "metadata": {},
   "outputs": [],
   "source": [
    "#we have a query \n",
    "query = \"I like cats and dogs\""
   ]
  },
  {
   "cell_type": "code",
   "execution_count": 7,
   "id": "85f84e9b",
   "metadata": {},
   "outputs": [],
   "source": [
    "def calculate_query_probability(query, document_model):\n",
    "    # Tokenize the query into words\n",
    "    query_words = query.split()\n",
    "    \n",
    "    # Initialize the probability for the entire query\n",
    "    query_probability = 1.0\n",
    "    \n",
    "    # Calculate the probability for each term in the query\n",
    "    for word in query_words:\n",
    "        if word in document_model:\n",
    "            query_probability *= document_model[word]\n",
    "        else:\n",
    "            query_probability = 0.0\n",
    "            break\n",
    "    \n",
    "    return query_probability"
   ]
  },
  {
   "cell_type": "code",
   "execution_count": 8,
   "id": "25934062",
   "metadata": {},
   "outputs": [],
   "source": [
    "query_probability = calculate_query_probability(query, unigram_models)"
   ]
  },
  {
   "cell_type": "code",
   "execution_count": 9,
   "id": "e57e1768",
   "metadata": {},
   "outputs": [
    {
     "data": {
      "text/plain": [
       "0.0"
      ]
     },
     "execution_count": 9,
     "metadata": {},
     "output_type": "execute_result"
    }
   ],
   "source": [
    "query_probability"
   ]
  },
  {
   "cell_type": "markdown",
   "id": "f2641c2c",
   "metadata": {},
   "source": [
    "## Your task"
   ]
  },
  {
   "cell_type": "code",
   "execution_count": 22,
   "id": "205aaa45",
   "metadata": {},
   "outputs": [],
   "source": [
    "# Use Laplace Smoothing for this problem\n",
    "# https://www.exploredatabase.com/2020/10/explain-add-1-laplace-smoothing-with-example.html\n",
    "\n",
    "def smoothing_unigram_models(query, document_model, k=1):\n",
    "    # Tokenize the query into words\n",
    "    query_words = query.split()\n",
    "    \n",
    "    # Initialize the probability for the entire query\n",
    "    query_probability = 1.0\n",
    "    \n",
    "    # Calculate the total number of words in the document model\n",
    "    total_words = sum(document_model.values())\n",
    "    \n",
    "    # Calculate the number of unique words in the document model\n",
    "    vocabulary_size = len(document_model.keys())\n",
    "    \n",
    "    # Calculate the probability for each term in the query\n",
    "    for word in query_words:\n",
    "        word_count = document_model.get(word, 0)\n",
    "        query_probability *= (word_count + k) / (total_words + k*vocabulary_size)\n",
    "    \n",
    "    return query_probability\n"
   ]
  },
  {
   "cell_type": "code",
   "execution_count": 23,
   "id": "cd68bfe2",
   "metadata": {},
   "outputs": [
    {
     "name": "stdout",
     "output_type": "stream",
     "text": [
      "Document 1: 0.000043\n",
      "Document 2: 0.000129\n",
      "Document 3: 0.000031\n",
      "Document 4: 0.000031\n"
     ]
    }
   ],
   "source": [
    "# Calculate the query probability for each document\n",
    "query_probabilities_smoothing = [smoothing_unigram_models(query, model) for model in unigram_models]\n",
    "\n",
    "# Print the query probabilities\n",
    "for i, prob in enumerate(query_probabilities_smoothing):\n",
    "    print(f\"Document {i+1}: {prob:.6f}\")"
   ]
  },
  {
   "cell_type": "code",
   "execution_count": null,
   "id": "e7be6ed7",
   "metadata": {},
   "outputs": [],
   "source": [
    "# create a bigram model & apply smoothing method"
   ]
  },
  {
   "cell_type": "code",
   "execution_count": 19,
   "id": "471b6277",
   "metadata": {},
   "outputs": [],
   "source": [
    "# Create a function to calculate the bigram model\n",
    "def bigram_model(document):\n",
    "    words = document.split()\n",
    "    total_bigrams = len(words) - 1\n",
    "    bigram_counts = defaultdict(int)\n",
    "    for i in range(total_bigrams):\n",
    "        bigram_counts[(words[i], words[i+1])] += 1\n",
    "    bigram_model = {bigram: count / total_bigrams for bigram, count in bigram_counts.items()}\n",
    "    return bigram_model \n",
    "\n",
    "# Create bigram models for all documents\n",
    "bigram_models = [bigram_model(doc) for doc in documents]"
   ]
  },
  {
   "cell_type": "code",
   "execution_count": 20,
   "id": "a7f2705d",
   "metadata": {},
   "outputs": [
    {
     "data": {
      "text/plain": [
       "[{('I', 'love'): 0.14285714285714285,\n",
       "  ('love', 'cats'): 0.14285714285714285,\n",
       "  ('cats', '.'): 0.14285714285714285,\n",
       "  ('.', 'cats'): 0.14285714285714285,\n",
       "  ('cats', 'are'): 0.14285714285714285,\n",
       "  ('are', 'cute'): 0.14285714285714285,\n",
       "  ('cute', 'pets.'): 0.14285714285714285},\n",
       " {('Dogs', 'are'): 0.3333333333333333,\n",
       "  ('are', 'loyal.'): 0.16666666666666666,\n",
       "  ('loyal.', 'Dogs'): 0.16666666666666666,\n",
       "  ('are', 'good'): 0.16666666666666666,\n",
       "  ('good', 'friends.'): 0.16666666666666666},\n",
       " {('Birds', 'can'): 0.14285714285714285,\n",
       "  ('can', 'sing.'): 0.14285714285714285,\n",
       "  ('sing.', 'Birds'): 0.14285714285714285,\n",
       "  ('Birds', 'fly'): 0.14285714285714285,\n",
       "  ('fly', 'in'): 0.14285714285714285,\n",
       "  ('in', 'the'): 0.14285714285714285,\n",
       "  ('the', 'sky.'): 0.14285714285714285},\n",
       " {('Fish', 'live'): 0.14285714285714285,\n",
       "  ('live', 'underwater.'): 0.14285714285714285,\n",
       "  ('underwater.', 'Fish'): 0.14285714285714285,\n",
       "  ('Fish', 'come'): 0.14285714285714285,\n",
       "  ('come', 'in'): 0.14285714285714285,\n",
       "  ('in', 'many'): 0.14285714285714285,\n",
       "  ('many', 'colors.'): 0.14285714285714285}]"
      ]
     },
     "execution_count": 20,
     "metadata": {},
     "output_type": "execute_result"
    }
   ],
   "source": [
    "bigram_models"
   ]
  },
  {
   "cell_type": "code",
   "execution_count": 24,
   "id": "144ab0da",
   "metadata": {},
   "outputs": [],
   "source": [
    "# Create a function to calculate the smoothing_bigram_models\n",
    "def smoothing_bigram_models(query, document_model):\n",
    "    # Tokenize the query into words\n",
    "    query_words = query.split()\n",
    "    \n",
    "    # Initialize the probability for the entire query\n",
    "    query_probability = 1.0\n",
    "    \n",
    "    # Calculate the total number of bigrams in the document model\n",
    "    total_bigrams = sum(document_model.values())\n",
    "    \n",
    "    # Calculate the number of unique bigrams in the document model\n",
    "    vocabulary_size = len(document_model.keys())\n",
    "    \n",
    "    # Calculate the probability for each term in the query\n",
    "    for i in range(len(query_words) - 1):\n",
    "        bigram = (query_words[i], query_words[i+1])\n",
    "        bigram_count = document_model.get(bigram, 0)\n",
    "        query_probability *= (bigram_count + 1) / (total_bigrams + vocabulary_size)\n",
    "    \n",
    "    return query_probability"
   ]
  },
  {
   "cell_type": "code",
   "execution_count": 25,
   "id": "d08b4226",
   "metadata": {},
   "outputs": [
    {
     "name": "stdout",
     "output_type": "stream",
     "text": [
      "Document 1: 0.000244\n",
      "Document 2: 0.000772\n",
      "Document 3: 0.000244\n",
      "Document 4: 0.000244\n"
     ]
    }
   ],
   "source": [
    "# Calculate the query probability for each document\n",
    "query_probabilities_bigram = [smoothing_bigram_models(query, model) for model in bigram_models]\n",
    "\n",
    "# Print the query probabilities\n",
    "for i, prob in enumerate(query_probabilities_bigram):\n",
    "    print(f\"Document {i+1}: {prob:.6f}\")"
   ]
  }
 ],
 "metadata": {
  "kernelspec": {
   "display_name": "Python 3",
   "language": "python",
   "name": "python3"
  },
  "language_info": {
   "codemirror_mode": {
    "name": "ipython",
    "version": 3
   },
   "file_extension": ".py",
   "mimetype": "text/x-python",
   "name": "python",
   "nbconvert_exporter": "python",
   "pygments_lexer": "ipython3",
   "version": "3.11.3"
  }
 },
 "nbformat": 4,
 "nbformat_minor": 5
}
